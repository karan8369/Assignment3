{
 "cells": [
  {
   "cell_type": "code",
   "execution_count": 5,
   "id": "2c2c900c",
   "metadata": {},
   "outputs": [
    {
     "name": "stdout",
     "output_type": "stream",
     "text": [
      "sum of numbers in the list is : 20\n"
     ]
    }
   ],
   "source": [
    "def sum_list_numbers(numbers):\n",
    "    total = 0\n",
    "    for num in numbers:\n",
    "        total += num \n",
    "    return total\n",
    "my_list = [8,2,3,0,7]\n",
    "result = sum_list_numbers(my_list)\n",
    "print(\"sum of numbers in the list is :\",result)\n",
    "        "
   ]
  },
  {
   "cell_type": "code",
   "execution_count": 7,
   "id": "dc10f7ee",
   "metadata": {},
   "outputs": [
    {
     "name": "stdout",
     "output_type": "stream",
     "text": [
      "The original string : 1234abcd\n",
      "Reverse string : dcba4321\n"
     ]
    }
   ],
   "source": [
    "def reverse_string(input_string):\n",
    "    return input_string[::-1]\n",
    "sample_string = \"1234abcd\"\n",
    "reverse_string = reverse_string(sample_string)\n",
    "print(\"The original string :\",sample_string)\n",
    "print(\"Reverse string :\",reverse_string)\n"
   ]
  },
  {
   "cell_type": "code",
   "execution_count": 30,
   "id": "43e65ddb",
   "metadata": {},
   "outputs": [
    {
     "name": "stdout",
     "output_type": "stream",
     "text": [
      "Original leters : The quick Brow Fox\n",
      "Uppercase letters : 3\n",
      "Lowercase letters : 12\n"
     ]
    }
   ],
   "source": [
    "def count_upper_lower(string):\n",
    "    uppercase_count = 0\n",
    "    lowercase_count = 0\n",
    "    \n",
    "    for char in string:\n",
    "        if char.isupper():\n",
    "            uppercase_count += 1\n",
    "        elif char.islower():\n",
    "            lowercase_count += 1\n",
    "    return uppercase_count, lowercase_count        \n",
    "\n",
    "sample_string = 'The quick Brow Fox'\n",
    "uppercase, lowercase = count_upper_lower(sample_string)\n",
    "print(\"Original leters :\",sample_string)\n",
    "print(\"Uppercase letters :\",uppercase)\n",
    "print(\"Lowercase letters :\",lowercase)\n"
   ]
  },
  {
   "cell_type": "code",
   "execution_count": null,
   "id": "2db18368",
   "metadata": {},
   "outputs": [],
   "source": []
  }
 ],
 "metadata": {
  "kernelspec": {
   "display_name": "Python 3 (ipykernel)",
   "language": "python",
   "name": "python3"
  },
  "language_info": {
   "codemirror_mode": {
    "name": "ipython",
    "version": 3
   },
   "file_extension": ".py",
   "mimetype": "text/x-python",
   "name": "python",
   "nbconvert_exporter": "python",
   "pygments_lexer": "ipython3",
   "version": "3.10.9"
  }
 },
 "nbformat": 4,
 "nbformat_minor": 5
}
